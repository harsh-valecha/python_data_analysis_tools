{
 "cells": [
  {
   "cell_type": "code",
   "execution_count": 46,
   "id": "8f7457e0-c692-43fe-b4d7-319353be973d",
   "metadata": {},
   "outputs": [],
   "source": [
    "from pyspark.sql import SparkSession"
   ]
  },
  {
   "cell_type": "code",
   "execution_count": 47,
   "id": "59c7b97c-8a92-412e-8918-9faa0120139a",
   "metadata": {},
   "outputs": [],
   "source": [
    "# building pyspark session\n",
    "spark = SparkSession.builder.appName('Dataframe').getOrCreate()"
   ]
  },
  {
   "cell_type": "code",
   "execution_count": 48,
   "id": "67d25472-1dfe-4524-8ce7-42a85da2e1e9",
   "metadata": {},
   "outputs": [
    {
     "data": {
      "text/html": [
       "\n",
       "            <div>\n",
       "                <p><b>SparkSession - in-memory</b></p>\n",
       "                \n",
       "        <div>\n",
       "            <p><b>SparkContext</b></p>\n",
       "\n",
       "            <p><a href=\"http://Bajrang:4040\">Spark UI</a></p>\n",
       "\n",
       "            <dl>\n",
       "              <dt>Version</dt>\n",
       "                <dd><code>v3.5.1</code></dd>\n",
       "              <dt>Master</dt>\n",
       "                <dd><code>local[*]</code></dd>\n",
       "              <dt>AppName</dt>\n",
       "                <dd><code>Dataframe</code></dd>\n",
       "            </dl>\n",
       "        </div>\n",
       "        \n",
       "            </div>\n",
       "        "
      ],
      "text/plain": [
       "<pyspark.sql.session.SparkSession at 0x1bd313f1850>"
      ]
     },
     "execution_count": 48,
     "metadata": {},
     "output_type": "execute_result"
    }
   ],
   "source": [
    "spark"
   ]
  },
  {
   "cell_type": "code",
   "execution_count": 49,
   "id": "d6c2c86c-54ef-4139-ae60-6f13fe06d3af",
   "metadata": {},
   "outputs": [],
   "source": [
    "# reading a dataframe -- use show method to check the values\n",
    "df_pyspark = spark.read.option('header','true').csv('data1.csv',inferSchema = True)"
   ]
  },
  {
   "cell_type": "code",
   "execution_count": 50,
   "id": "776240fd-125c-472f-ae79-6def07213a0f",
   "metadata": {},
   "outputs": [
    {
     "name": "stdout",
     "output_type": "stream",
     "text": [
      "root\n",
      " |-- description: string (nullable = true)\n",
      " |-- industry: string (nullable = true)\n",
      " |-- level: integer (nullable = true)\n",
      " |-- size: string (nullable = true)\n",
      " |-- line_code: string (nullable = true)\n",
      " |-- value: integer (nullable = true)\n",
      "\n"
     ]
    }
   ],
   "source": [
    "# getting the schema\n",
    "df_pyspark.printSchema()"
   ]
  },
  {
   "cell_type": "code",
   "execution_count": 51,
   "id": "9933a619-598c-4283-b469-5b0a7b764b86",
   "metadata": {},
   "outputs": [
    {
     "name": "stdout",
     "output_type": "stream",
     "text": [
      "+--------------------+--------------------+-----+---------------+---------+-----+\n",
      "|         description|            industry|level|           size|line_code|value|\n",
      "+--------------------+--------------------+-----+---------------+---------+-----+\n",
      "|Business main cus...|               total|    0| 6�19 employees| C0300.01|15639|\n",
      "|Business main cus...|               total|    0|20�49 employees| C0300.01| 2943|\n",
      "|Business main cus...|               total|    0|50�99 employees| C0300.01|  639|\n",
      "|Business main cus...|               total|    0| 100+ employees| C0300.01|  555|\n",
      "|Business main cus...|Agriculture, fore...|    1|          total| C0300.01|  348|\n",
      "+--------------------+--------------------+-----+---------------+---------+-----+\n",
      "only showing top 5 rows\n",
      "\n"
     ]
    }
   ],
   "source": [
    "# another way\n",
    "df_pyspark = spark.read.csv('data1.csv',header = True,inferSchema = True)\n",
    "df_pyspark.show(5)"
   ]
  },
  {
   "cell_type": "code",
   "execution_count": 52,
   "id": "563b4415-7acf-430c-a1ae-5428a1dbc6e6",
   "metadata": {},
   "outputs": [
    {
     "data": {
      "text/plain": [
       "pyspark.sql.dataframe.DataFrame"
      ]
     },
     "execution_count": 52,
     "metadata": {},
     "output_type": "execute_result"
    }
   ],
   "source": [
    "type(df_pyspark) # Dataframe is a datastructure"
   ]
  },
  {
   "cell_type": "code",
   "execution_count": 53,
   "id": "2b263a9e-bead-4412-851b-eacbd24a76e4",
   "metadata": {},
   "outputs": [
    {
     "data": {
      "text/plain": [
       "['description', 'industry', 'level', 'size', 'line_code', 'value']"
      ]
     },
     "execution_count": 53,
     "metadata": {},
     "output_type": "execute_result"
    }
   ],
   "source": [
    "df_pyspark.columns"
   ]
  },
  {
   "cell_type": "code",
   "execution_count": 54,
   "id": "04250a88-2a6f-49d8-98fd-42ea90f08e2e",
   "metadata": {},
   "outputs": [
    {
     "data": {
      "text/plain": [
       "[Row(description='Business main customer: individuals or households', industry='total', level=0, size='6�19 employees', line_code='C0300.01', value=15639),\n",
       " Row(description='Business main customer: individuals or households', industry='total', level=0, size='20�49 employees', line_code='C0300.01', value=2943),\n",
       " Row(description='Business main customer: individuals or households', industry='total', level=0, size='50�99 employees', line_code='C0300.01', value=639)]"
      ]
     },
     "execution_count": 54,
     "metadata": {},
     "output_type": "execute_result"
    }
   ],
   "source": [
    "df_pyspark.head(3)"
   ]
  },
  {
   "cell_type": "code",
   "execution_count": 55,
   "id": "50039b6d-34ed-4c1b-86f5-c5710cf45b8d",
   "metadata": {},
   "outputs": [
    {
     "data": {
      "text/plain": [
       "DataFrame[description: string]"
      ]
     },
     "execution_count": 55,
     "metadata": {},
     "output_type": "execute_result"
    }
   ],
   "source": [
    "# getting a selected column\n",
    "df_pyspark.select('description')"
   ]
  },
  {
   "cell_type": "code",
   "execution_count": 56,
   "id": "ac6a6858-3c94-410b-a434-e299f33674d2",
   "metadata": {},
   "outputs": [
    {
     "name": "stdout",
     "output_type": "stream",
     "text": [
      "+--------------------+\n",
      "|         description|\n",
      "+--------------------+\n",
      "|Business main cus...|\n",
      "|Business main cus...|\n",
      "|Business main cus...|\n",
      "|Business main cus...|\n",
      "|Business main cus...|\n",
      "+--------------------+\n",
      "only showing top 5 rows\n",
      "\n"
     ]
    }
   ],
   "source": [
    "df_pyspark.select('description').show(5)"
   ]
  },
  {
   "cell_type": "code",
   "execution_count": 57,
   "id": "78b362e0-d640-42cd-9766-f538953c144b",
   "metadata": {},
   "outputs": [
    {
     "data": {
      "text/plain": [
       "DataFrame[description: string, industry: string]"
      ]
     },
     "execution_count": 57,
     "metadata": {},
     "output_type": "execute_result"
    }
   ],
   "source": [
    "# selecting multiple columns \n",
    "df_pyspark.select(['description','industry'])"
   ]
  },
  {
   "cell_type": "code",
   "execution_count": 58,
   "id": "5c97cb49-af3c-455d-90b5-3609c60a16c1",
   "metadata": {},
   "outputs": [
    {
     "name": "stdout",
     "output_type": "stream",
     "text": [
      "+--------------------+--------------------+\n",
      "|         description|            industry|\n",
      "+--------------------+--------------------+\n",
      "|Business main cus...|               total|\n",
      "|Business main cus...|               total|\n",
      "|Business main cus...|               total|\n",
      "|Business main cus...|               total|\n",
      "|Business main cus...|Agriculture, fore...|\n",
      "+--------------------+--------------------+\n",
      "only showing top 5 rows\n",
      "\n"
     ]
    }
   ],
   "source": [
    "df_pyspark.select(['description','industry']).show(5)"
   ]
  },
  {
   "cell_type": "code",
   "execution_count": 59,
   "id": "d6d5f369-d4ec-46fc-a9c6-9fe13c5e2315",
   "metadata": {},
   "outputs": [
    {
     "data": {
      "text/plain": [
       "Column<'description'>"
      ]
     },
     "execution_count": 59,
     "metadata": {},
     "output_type": "execute_result"
    }
   ],
   "source": [
    "# column object is returned\n",
    "df_pyspark['description']"
   ]
  },
  {
   "cell_type": "code",
   "execution_count": 60,
   "id": "90380614-0b4b-4430-ac3a-f8db249751ee",
   "metadata": {},
   "outputs": [
    {
     "data": {
      "text/plain": [
       "[('description', 'string'),\n",
       " ('industry', 'string'),\n",
       " ('level', 'int'),\n",
       " ('size', 'string'),\n",
       " ('line_code', 'string'),\n",
       " ('value', 'int')]"
      ]
     },
     "execution_count": 60,
     "metadata": {},
     "output_type": "execute_result"
    }
   ],
   "source": [
    "# getting the datatypes of the columns \n",
    "df_pyspark.dtypes"
   ]
  },
  {
   "cell_type": "code",
   "execution_count": 61,
   "id": "ab8a8a50-5a1a-4025-9d44-ae2647042f7f",
   "metadata": {},
   "outputs": [
    {
     "data": {
      "text/plain": [
       "DataFrame[summary: string, description: string, industry: string, level: string, size: string, line_code: string, value: string]"
      ]
     },
     "execution_count": 61,
     "metadata": {},
     "output_type": "execute_result"
    }
   ],
   "source": [
    "# describe\n",
    "df_pyspark.describe()"
   ]
  },
  {
   "cell_type": "code",
   "execution_count": 62,
   "id": "08717c58-deff-4a66-b4b3-71e6b27f1cb4",
   "metadata": {},
   "outputs": [
    {
     "name": "stdout",
     "output_type": "stream",
     "text": [
      "+-------+--------------------+--------------------+------------------+--------------+---------+-----------------+\n",
      "|summary|         description|            industry|             level|          size|line_code|            value|\n",
      "+-------+--------------------+--------------------+------------------+--------------+---------+-----------------+\n",
      "|  count|               14758|               14758|             14758|         14758|    14758|            14758|\n",
      "|   mean|                NULL|                NULL|1.4042553191489362|          NULL|     NULL|669.3437457650089|\n",
      "| stddev|                NULL|                NULL|0.6735203422442279|          NULL|     NULL| 2443.43706710439|\n",
      "|    min|Are answers appli...|Accommodation & f...|                 0|100+ employees| C0300.01|                0|\n",
      "|    max|Who reviews and s...|               total|                 2|         total| C3307.04|            44877|\n",
      "+-------+--------------------+--------------------+------------------+--------------+---------+-----------------+\n",
      "\n"
     ]
    }
   ],
   "source": [
    "df_pyspark.describe().show()"
   ]
  },
  {
   "cell_type": "code",
   "execution_count": 65,
   "id": "88633d4b-5ec6-4edd-9af9-e1061af48b75",
   "metadata": {},
   "outputs": [],
   "source": [
    "# Adding columns in dataframe \n",
    "df_pyspark = df_pyspark.withColumn('level+2',df_pyspark['level']+2)"
   ]
  },
  {
   "cell_type": "code",
   "execution_count": 66,
   "id": "20a5f621-4ff6-4df9-876f-13cf2e5212ce",
   "metadata": {},
   "outputs": [
    {
     "name": "stdout",
     "output_type": "stream",
     "text": [
      "+-----+-------+\n",
      "|level|level+2|\n",
      "+-----+-------+\n",
      "|    0|      2|\n",
      "|    0|      2|\n",
      "|    0|      2|\n",
      "|    0|      2|\n",
      "|    1|      3|\n",
      "+-----+-------+\n",
      "only showing top 5 rows\n",
      "\n"
     ]
    }
   ],
   "source": [
    "df_pyspark.select(['level','level+2']).show(5)"
   ]
  },
  {
   "cell_type": "code",
   "execution_count": 71,
   "id": "e5a91380-8080-4a17-b30e-b600709e59f3",
   "metadata": {},
   "outputs": [
    {
     "name": "stdout",
     "output_type": "stream",
     "text": [
      "+--------------------+--------------------+-----+---------------+---------+-----+\n",
      "|         description|            industry|level|           size|line_code|value|\n",
      "+--------------------+--------------------+-----+---------------+---------+-----+\n",
      "|Business main cus...|               total|    0| 6�19 employees| C0300.01|15639|\n",
      "|Business main cus...|               total|    0|20�49 employees| C0300.01| 2943|\n",
      "|Business main cus...|               total|    0|50�99 employees| C0300.01|  639|\n",
      "|Business main cus...|               total|    0| 100+ employees| C0300.01|  555|\n",
      "|Business main cus...|Agriculture, fore...|    1|          total| C0300.01|  348|\n",
      "+--------------------+--------------------+-----+---------------+---------+-----+\n",
      "only showing top 5 rows\n",
      "\n"
     ]
    }
   ],
   "source": [
    "# dropping columns\n",
    "df_pyspark.drop('level+2').show(5)"
   ]
  },
  {
   "cell_type": "code",
   "execution_count": 72,
   "id": "c9fc11ef-7d48-409d-984f-bdcf24e99bee",
   "metadata": {},
   "outputs": [
    {
     "name": "stdout",
     "output_type": "stream",
     "text": [
      "+--------------------+--------------------+-----+---------------+---------+-----+-------+\n",
      "|         description|               paisa|level|           size|line_code|value|level+2|\n",
      "+--------------------+--------------------+-----+---------------+---------+-----+-------+\n",
      "|Business main cus...|               total|    0| 6�19 employees| C0300.01|15639|      2|\n",
      "|Business main cus...|               total|    0|20�49 employees| C0300.01| 2943|      2|\n",
      "|Business main cus...|               total|    0|50�99 employees| C0300.01|  639|      2|\n",
      "|Business main cus...|               total|    0| 100+ employees| C0300.01|  555|      2|\n",
      "|Business main cus...|Agriculture, fore...|    1|          total| C0300.01|  348|      3|\n",
      "|Business main cus...|         Agriculture|    2|          total| C0300.01|  177|      4|\n",
      "|Business main cus...|  Commercial fishing|    2|          total| C0300.01|    3|      4|\n",
      "|Business main cus...|  Forestry & logging|    2|          total| C0300.01|   12|      4|\n",
      "|Business main cus...|Agriculture, fore...|    2|          total| C0300.01|  159|      4|\n",
      "|Business main cus...|              Mining|    1|          total| C0300.01|   12|      3|\n",
      "|Business main cus...|       Manufacturing|    1|          total| C0300.01| 1230|      3|\n",
      "|Business main cus...|Food, beverage, &...|    2|          total| C0300.01|  462|      4|\n",
      "|Business main cus...|Textile, clothing...|    2|          total| C0300.01|   66|      4|\n",
      "|Business main cus...|Wood & paper product|    2|          total| C0300.01|  117|      4|\n",
      "|Business main cus...|Printing, publish...|    2|          total| C0300.01|    3|      4|\n",
      "|Business main cus...|Petroleum, coal, ...|    2|          total| C0300.01|   54|      4|\n",
      "|Business main cus...|Non-metallic mine...|    2|          total| C0300.01|   54|      4|\n",
      "|Business main cus...|       Metal product|    2|          total| C0300.01|  153|      4|\n",
      "|Business main cus...|Transport and ind...|    2|          total| C0300.01|  189|      4|\n",
      "|Business main cus...|Other machinery &...|    2|          total| C0300.01|   12|      4|\n",
      "+--------------------+--------------------+-----+---------------+---------+-----+-------+\n",
      "only showing top 20 rows\n",
      "\n"
     ]
    }
   ],
   "source": [
    "## renaming a column\n",
    "df_pyspark.withColumnRenamed('industry','paisa').show()"
   ]
  },
  {
   "cell_type": "code",
   "execution_count": 73,
   "id": "b396de55-3258-4f68-a5b4-6890a37f2ed8",
   "metadata": {},
   "outputs": [
    {
     "name": "stdout",
     "output_type": "stream",
     "text": [
      "+--------------------+--------------------+-----+---------------+---------+-----+-------+\n",
      "|         description|            industry|level|           size|line_code|value|level+2|\n",
      "+--------------------+--------------------+-----+---------------+---------+-----+-------+\n",
      "|Business main cus...|               total|    0| 6�19 employees| C0300.01|15639|      2|\n",
      "|Business main cus...|               total|    0|20�49 employees| C0300.01| 2943|      2|\n",
      "|Business main cus...|               total|    0|50�99 employees| C0300.01|  639|      2|\n",
      "|Business main cus...|               total|    0| 100+ employees| C0300.01|  555|      2|\n",
      "|Business main cus...|Agriculture, fore...|    1|          total| C0300.01|  348|      3|\n",
      "+--------------------+--------------------+-----+---------------+---------+-----+-------+\n",
      "only showing top 5 rows\n",
      "\n"
     ]
    }
   ],
   "source": [
    "df_pyspark.show(5)"
   ]
  },
  {
   "cell_type": "markdown",
   "id": "b09a7c72-cfbd-466d-a1c8-8bce333e065b",
   "metadata": {},
   "source": [
    "### Pyspark Handling Missing Values\n",
    "- Dropping columns\n",
    "- Dropping Rows\n",
    "- Various parameters in dropping functionalities\n",
    "- Handling missing values by mean"
   ]
  },
  {
   "cell_type": "code",
   "execution_count": null,
   "id": "ca1cb449-1752-4128-b376-849e429083ab",
   "metadata": {},
   "outputs": [],
   "source": []
  }
 ],
 "metadata": {
  "kernelspec": {
   "display_name": "Python 3 (ipykernel)",
   "language": "python",
   "name": "python3"
  },
  "language_info": {
   "codemirror_mode": {
    "name": "ipython",
    "version": 3
   },
   "file_extension": ".py",
   "mimetype": "text/x-python",
   "name": "python",
   "nbconvert_exporter": "python",
   "pygments_lexer": "ipython3",
   "version": "3.11.9"
  }
 },
 "nbformat": 4,
 "nbformat_minor": 5
}
