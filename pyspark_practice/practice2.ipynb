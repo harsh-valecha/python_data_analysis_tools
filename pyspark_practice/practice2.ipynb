{
 "cells": [
  {
   "cell_type": "code",
   "execution_count": 1,
   "id": "12bc6c0f-a0c7-466d-bd8f-bbaa07b7ce85",
   "metadata": {},
   "outputs": [],
   "source": [
    "import pandas as pd"
   ]
  },
  {
   "cell_type": "code",
   "execution_count": 5,
   "id": "7322ab3f-32cf-4263-adc5-6f17311e2d89",
   "metadata": {},
   "outputs": [],
   "source": [
    "df= pd.read_csv('data1.csv',encoding='latin1')"
   ]
  },
  {
   "cell_type": "code",
   "execution_count": 6,
   "id": "1e6d6974-63b0-4237-a159-1ab9f24dd174",
   "metadata": {},
   "outputs": [
    {
     "data": {
      "text/plain": [
       "Index(['description', 'industry', 'level', 'size', 'line_code', 'value'], dtype='object')"
      ]
     },
     "execution_count": 6,
     "metadata": {},
     "output_type": "execute_result"
    }
   ],
   "source": [
    "df.columns"
   ]
  },
  {
   "cell_type": "code",
   "execution_count": 8,
   "id": "f0052b6c-5594-4f2f-b556-c43382cf7020",
   "metadata": {},
   "outputs": [
    {
     "data": {
      "text/plain": [
       "2"
      ]
     },
     "execution_count": 8,
     "metadata": {},
     "output_type": "execute_result"
    }
   ],
   "source": [
    "df.ndim"
   ]
  },
  {
   "cell_type": "code",
   "execution_count": 10,
   "id": "9672ae0b-9a1c-47ac-8c79-478cd41c1403",
   "metadata": {},
   "outputs": [
    {
     "data": {
      "text/plain": [
       "14758"
      ]
     },
     "execution_count": 10,
     "metadata": {},
     "output_type": "execute_result"
    }
   ],
   "source": [
    "len(df) # return number of rows"
   ]
  },
  {
   "cell_type": "code",
   "execution_count": 26,
   "id": "14e79272-41e2-448b-82d6-14b242106790",
   "metadata": {},
   "outputs": [
    {
     "data": {
      "text/html": [
       "<div>\n",
       "<style scoped>\n",
       "    .dataframe tbody tr th:only-of-type {\n",
       "        vertical-align: middle;\n",
       "    }\n",
       "\n",
       "    .dataframe tbody tr th {\n",
       "        vertical-align: top;\n",
       "    }\n",
       "\n",
       "    .dataframe thead th {\n",
       "        text-align: right;\n",
       "    }\n",
       "</style>\n",
       "<table border=\"1\" class=\"dataframe\">\n",
       "  <thead>\n",
       "    <tr style=\"text-align: right;\">\n",
       "      <th></th>\n",
       "      <th>description</th>\n",
       "      <th>industry</th>\n",
       "      <th>level</th>\n",
       "      <th>size</th>\n",
       "      <th>line_code</th>\n",
       "      <th>value</th>\n",
       "    </tr>\n",
       "  </thead>\n",
       "  <tbody>\n",
       "    <tr>\n",
       "      <th>0</th>\n",
       "      <td>Business main customer: individuals or households</td>\n",
       "      <td>total</td>\n",
       "      <td>0</td>\n",
       "      <td>619 employees</td>\n",
       "      <td>C0300.01</td>\n",
       "      <td>15639</td>\n",
       "    </tr>\n",
       "    <tr>\n",
       "      <th>1</th>\n",
       "      <td>Business main customer: individuals or households</td>\n",
       "      <td>total</td>\n",
       "      <td>0</td>\n",
       "      <td>2049 employees</td>\n",
       "      <td>C0300.01</td>\n",
       "      <td>2943</td>\n",
       "    </tr>\n",
       "    <tr>\n",
       "      <th>2</th>\n",
       "      <td>Business main customer: individuals or households</td>\n",
       "      <td>total</td>\n",
       "      <td>0</td>\n",
       "      <td>5099 employees</td>\n",
       "      <td>C0300.01</td>\n",
       "      <td>639</td>\n",
       "    </tr>\n",
       "    <tr>\n",
       "      <th>3</th>\n",
       "      <td>Business main customer: individuals or households</td>\n",
       "      <td>total</td>\n",
       "      <td>0</td>\n",
       "      <td>100+ employees</td>\n",
       "      <td>C0300.01</td>\n",
       "      <td>555</td>\n",
       "    </tr>\n",
       "    <tr>\n",
       "      <th>4</th>\n",
       "      <td>Business main customer: individuals or households</td>\n",
       "      <td>Agriculture, forestry, &amp; fishing</td>\n",
       "      <td>1</td>\n",
       "      <td>total</td>\n",
       "      <td>C0300.01</td>\n",
       "      <td>348</td>\n",
       "    </tr>\n",
       "    <tr>\n",
       "      <th>5</th>\n",
       "      <td>Business main customer: individuals or households</td>\n",
       "      <td>Agriculture</td>\n",
       "      <td>2</td>\n",
       "      <td>total</td>\n",
       "      <td>C0300.01</td>\n",
       "      <td>177</td>\n",
       "    </tr>\n",
       "    <tr>\n",
       "      <th>6</th>\n",
       "      <td>Business main customer: individuals or households</td>\n",
       "      <td>Commercial fishing</td>\n",
       "      <td>2</td>\n",
       "      <td>total</td>\n",
       "      <td>C0300.01</td>\n",
       "      <td>3</td>\n",
       "    </tr>\n",
       "    <tr>\n",
       "      <th>7</th>\n",
       "      <td>Business main customer: individuals or households</td>\n",
       "      <td>Forestry &amp; logging</td>\n",
       "      <td>2</td>\n",
       "      <td>total</td>\n",
       "      <td>C0300.01</td>\n",
       "      <td>12</td>\n",
       "    </tr>\n",
       "    <tr>\n",
       "      <th>8</th>\n",
       "      <td>Business main customer: individuals or households</td>\n",
       "      <td>Agriculture, forestry, &amp; fishing support services</td>\n",
       "      <td>2</td>\n",
       "      <td>total</td>\n",
       "      <td>C0300.01</td>\n",
       "      <td>159</td>\n",
       "    </tr>\n",
       "    <tr>\n",
       "      <th>9</th>\n",
       "      <td>Business main customer: individuals or households</td>\n",
       "      <td>Mining</td>\n",
       "      <td>1</td>\n",
       "      <td>total</td>\n",
       "      <td>C0300.01</td>\n",
       "      <td>12</td>\n",
       "    </tr>\n",
       "  </tbody>\n",
       "</table>\n",
       "</div>"
      ],
      "text/plain": [
       "                                         description  \\\n",
       "0  Business main customer: individuals or households   \n",
       "1  Business main customer: individuals or households   \n",
       "2  Business main customer: individuals or households   \n",
       "3  Business main customer: individuals or households   \n",
       "4  Business main customer: individuals or households   \n",
       "5  Business main customer: individuals or households   \n",
       "6  Business main customer: individuals or households   \n",
       "7  Business main customer: individuals or households   \n",
       "8  Business main customer: individuals or households   \n",
       "9  Business main customer: individuals or households   \n",
       "\n",
       "                                            industry  level             size  \\\n",
       "0                                              total      0   619 employees   \n",
       "1                                              total      0  2049 employees   \n",
       "2                                              total      0  5099 employees   \n",
       "3                                              total      0   100+ employees   \n",
       "4                   Agriculture, forestry, & fishing      1            total   \n",
       "5                                        Agriculture      2            total   \n",
       "6                                 Commercial fishing      2            total   \n",
       "7                                 Forestry & logging      2            total   \n",
       "8  Agriculture, forestry, & fishing support services      2            total   \n",
       "9                                             Mining      1            total   \n",
       "\n",
       "  line_code  value  \n",
       "0  C0300.01  15639  \n",
       "1  C0300.01   2943  \n",
       "2  C0300.01    639  \n",
       "3  C0300.01    555  \n",
       "4  C0300.01    348  \n",
       "5  C0300.01    177  \n",
       "6  C0300.01      3  \n",
       "7  C0300.01     12  \n",
       "8  C0300.01    159  \n",
       "9  C0300.01     12  "
      ]
     },
     "execution_count": 26,
     "metadata": {},
     "output_type": "execute_result"
    }
   ],
   "source": [
    "df.head(10)"
   ]
  },
  {
   "cell_type": "code",
   "execution_count": 17,
   "id": "3638bfb5-f7cc-4021-b9df-aaf726ff39bf",
   "metadata": {},
   "outputs": [
    {
     "data": {
      "text/plain": [
       "description    Business main customer: individuals or households\n",
       "industry                                                   total\n",
       "level                                                          0\n",
       "size                                              100+ employees\n",
       "line_code                                               C0300.01\n",
       "value                                                        555\n",
       "Name: 3, dtype: object"
      ]
     },
     "execution_count": 17,
     "metadata": {},
     "output_type": "execute_result"
    }
   ],
   "source": [
    "#printing nth row\n",
    "n = 3\n",
    "df.iloc[3] # 3rd row"
   ]
  },
  {
   "cell_type": "code",
   "execution_count": 19,
   "id": "fde98c44-0981-4898-a016-fe39c0a0deb5",
   "metadata": {},
   "outputs": [
    {
     "data": {
      "text/plain": [
       "description    Business main customer: individuals or households\n",
       "industry                                                   total\n",
       "level                                                          0\n",
       "size                                              100+ employees\n",
       "line_code                                               C0300.01\n",
       "value                                                        555\n",
       "Name: 3, dtype: object"
      ]
     },
     "execution_count": 19,
     "metadata": {},
     "output_type": "execute_result"
    }
   ],
   "source": [
    "# another example but using loc\n",
    "df.loc[3]"
   ]
  },
  {
   "cell_type": "code",
   "execution_count": 32,
   "id": "0f9007c7-71cc-47a0-9943-88547a65f9b0",
   "metadata": {},
   "outputs": [
    {
     "data": {
      "text/plain": [
       "0    15639\n",
       "1     2943\n",
       "2      639\n",
       "Name: value, dtype: int64"
      ]
     },
     "execution_count": 32,
     "metadata": {},
     "output_type": "execute_result"
    }
   ],
   "source": [
    "# loc -- label based indexing , iloc -- index based indexing \n",
    "df.loc[0:2]['value']"
   ]
  },
  {
   "cell_type": "code",
   "execution_count": 33,
   "id": "03922652-7e33-4d5d-95b5-a7de661773c6",
   "metadata": {},
   "outputs": [
    {
     "data": {
      "text/plain": [
       "0    15639\n",
       "1     2943\n",
       "2      639\n",
       "Name: value, dtype: int64"
      ]
     },
     "execution_count": 33,
     "metadata": {},
     "output_type": "execute_result"
    }
   ],
   "source": [
    "df.loc[0:2]['value']"
   ]
  },
  {
   "cell_type": "code",
   "execution_count": 37,
   "id": "b8203dd3-b584-4c07-9020-297fea62c94a",
   "metadata": {},
   "outputs": [
    {
     "data": {
      "text/plain": [
       "count    14758.000000\n",
       "mean       669.343746\n",
       "std       2443.437067\n",
       "min          0.000000\n",
       "25%         18.000000\n",
       "50%         90.000000\n",
       "75%        377.250000\n",
       "max      44877.000000\n",
       "Name: value, dtype: float64"
      ]
     },
     "execution_count": 37,
     "metadata": {},
     "output_type": "execute_result"
    }
   ],
   "source": [
    "df['value'].describe()"
   ]
  },
  {
   "cell_type": "code",
   "execution_count": 39,
   "id": "fe530264-af2c-40ea-a906-b451698fd98f",
   "metadata": {},
   "outputs": [
    {
     "data": {
      "text/plain": [
       "pandas.core.series.Series"
      ]
     },
     "execution_count": 39,
     "metadata": {},
     "output_type": "execute_result"
    }
   ],
   "source": [
    "type(df.value)"
   ]
  },
  {
   "cell_type": "code",
   "execution_count": 38,
   "id": "fe795537-a83d-4d60-9646-ef1d20b15f38",
   "metadata": {},
   "outputs": [
    {
     "data": {
      "text/plain": [
       "np.int64(14758)"
      ]
     },
     "execution_count": 38,
     "metadata": {},
     "output_type": "execute_result"
    }
   ],
   "source": [
    "## accessing all these property one by one \n",
    "df.value.count()"
   ]
  },
  {
   "cell_type": "code",
   "execution_count": 49,
   "id": "3d4bc7c8-c35d-4b4f-b209-38ffdb981957",
   "metadata": {},
   "outputs": [
    {
     "name": "stdout",
     "output_type": "stream",
     "text": [
      "<class 'pandas.core.frame.DataFrame'>\n",
      "RangeIndex: 14758 entries, 0 to 14757\n",
      "Data columns (total 6 columns):\n",
      " #   Column       Non-Null Count  Dtype \n",
      "---  ------       --------------  ----- \n",
      " 0   description  14758 non-null  object\n",
      " 1   industry     14758 non-null  object\n",
      " 2   level        14758 non-null  int64 \n",
      " 3   size         14758 non-null  object\n",
      " 4   line_code    14758 non-null  object\n",
      " 5   value        14758 non-null  int64 \n",
      "dtypes: int64(2), object(4)\n",
      "memory usage: 691.9+ KB\n"
     ]
    }
   ],
   "source": [
    "df.info()"
   ]
  },
  {
   "cell_type": "code",
   "execution_count": 41,
   "id": "9d0ead02-8dee-47c1-85aa-e0d3205c2c6c",
   "metadata": {},
   "outputs": [
    {
     "data": {
      "text/plain": [
       "True"
      ]
     },
     "execution_count": 41,
     "metadata": {},
     "output_type": "execute_result"
    }
   ],
   "source": [
    "type(df['value'])==type(df.value) ## both returns series"
   ]
  },
  {
   "cell_type": "code",
   "execution_count": 42,
   "id": "50c75c2d-9039-42d4-999a-17941d9e0550",
   "metadata": {},
   "outputs": [
    {
     "data": {
      "text/plain": [
       "0        15639\n",
       "1         2943\n",
       "2          639\n",
       "3          555\n",
       "4          348\n",
       "         ...  \n",
       "14753        3\n",
       "14754       36\n",
       "14755        0\n",
       "14756        0\n",
       "14757      174\n",
       "Name: value, Length: 14758, dtype: int64"
      ]
     },
     "execution_count": 42,
     "metadata": {},
     "output_type": "execute_result"
    }
   ],
   "source": [
    "df.value"
   ]
  },
  {
   "cell_type": "code",
   "execution_count": 56,
   "id": "2c0691ca-813a-4c95-a103-58e1b3184fb4",
   "metadata": {},
   "outputs": [
    {
     "data": {
      "text/plain": [
       "[15639, 2943, 639, 555, 348, 177, 3, 12, 159, 12]"
      ]
     },
     "execution_count": 56,
     "metadata": {},
     "output_type": "execute_result"
    }
   ],
   "source": [
    "df['value'].to_list()[:10] # first 10 values"
   ]
  },
  {
   "cell_type": "code",
   "execution_count": 57,
   "id": "a3ddb846-65d1-4d13-be4b-943fa94e08b9",
   "metadata": {},
   "outputs": [],
   "source": [
    "# checking if any column in dataframe has null valued"
   ]
  },
  {
   "cell_type": "code",
   "execution_count": 61,
   "id": "8f238cdc-d066-465e-a5f3-66e1af32239b",
   "metadata": {},
   "outputs": [
    {
     "data": {
      "text/html": [
       "<div>\n",
       "<style scoped>\n",
       "    .dataframe tbody tr th:only-of-type {\n",
       "        vertical-align: middle;\n",
       "    }\n",
       "\n",
       "    .dataframe tbody tr th {\n",
       "        vertical-align: top;\n",
       "    }\n",
       "\n",
       "    .dataframe thead th {\n",
       "        text-align: right;\n",
       "    }\n",
       "</style>\n",
       "<table border=\"1\" class=\"dataframe\">\n",
       "  <thead>\n",
       "    <tr style=\"text-align: right;\">\n",
       "      <th></th>\n",
       "      <th>description</th>\n",
       "      <th>industry</th>\n",
       "      <th>level</th>\n",
       "      <th>size</th>\n",
       "      <th>line_code</th>\n",
       "      <th>value</th>\n",
       "    </tr>\n",
       "  </thead>\n",
       "  <tbody>\n",
       "    <tr>\n",
       "      <th>0</th>\n",
       "      <td>False</td>\n",
       "      <td>False</td>\n",
       "      <td>False</td>\n",
       "      <td>False</td>\n",
       "      <td>False</td>\n",
       "      <td>False</td>\n",
       "    </tr>\n",
       "    <tr>\n",
       "      <th>1</th>\n",
       "      <td>False</td>\n",
       "      <td>False</td>\n",
       "      <td>False</td>\n",
       "      <td>False</td>\n",
       "      <td>False</td>\n",
       "      <td>False</td>\n",
       "    </tr>\n",
       "  </tbody>\n",
       "</table>\n",
       "</div>"
      ],
      "text/plain": [
       "   description  industry  level   size  line_code  value\n",
       "0        False     False  False  False      False  False\n",
       "1        False     False  False  False      False  False"
      ]
     },
     "execution_count": 61,
     "metadata": {},
     "output_type": "execute_result"
    }
   ],
   "source": [
    "df.isnull().head(2) # checks all the values for null"
   ]
  },
  {
   "cell_type": "code",
   "execution_count": 63,
   "id": "66acb118-f228-4c96-885d-be4788f566ae",
   "metadata": {},
   "outputs": [
    {
     "data": {
      "text/plain": [
       "description    False\n",
       "industry       False\n",
       "level          False\n",
       "size           False\n",
       "line_code      False\n",
       "value          False\n",
       "dtype: bool"
      ]
     },
     "execution_count": 63,
     "metadata": {},
     "output_type": "execute_result"
    }
   ],
   "source": [
    "df.isnull().any() # checks for all the columns regarding null values"
   ]
  },
  {
   "cell_type": "code",
   "execution_count": 64,
   "id": "c2ae0d85-9f5b-4821-a378-c8d2aa61845a",
   "metadata": {},
   "outputs": [
    {
     "data": {
      "text/plain": [
       "np.False_"
      ]
     },
     "execution_count": 64,
     "metadata": {},
     "output_type": "execute_result"
    }
   ],
   "source": [
    "df.isnull().any().any()"
   ]
  },
  {
   "cell_type": "code",
   "execution_count": 66,
   "id": "bdd98e5d-7a66-4c39-bd06-16f570a0c1f8",
   "metadata": {},
   "outputs": [
    {
     "data": {
      "text/plain": [
       "description    False\n",
       "industry       False\n",
       "level          False\n",
       "size           False\n",
       "line_code      False\n",
       "value          False\n",
       "dtype: bool"
      ]
     },
     "execution_count": 66,
     "metadata": {},
     "output_type": "execute_result"
    }
   ],
   "source": [
    "df.isna().any()"
   ]
  },
  {
   "cell_type": "code",
   "execution_count": 67,
   "id": "8694b1df-8cdd-4727-ab39-85375e78d6e2",
   "metadata": {},
   "outputs": [
    {
     "data": {
      "text/plain": [
       "np.int64(14758)"
      ]
     },
     "execution_count": 67,
     "metadata": {},
     "output_type": "execute_result"
    }
   ],
   "source": [
    "df.value.count()"
   ]
  },
  {
   "cell_type": "code",
   "execution_count": 68,
   "id": "d285794a-0032-4f8c-a9bc-422a21ffd4fa",
   "metadata": {},
   "outputs": [
    {
     "data": {
      "text/plain": [
       "np.int64(44877)"
      ]
     },
     "execution_count": 68,
     "metadata": {},
     "output_type": "execute_result"
    }
   ],
   "source": [
    "df.value.max()"
   ]
  },
  {
   "cell_type": "code",
   "execution_count": 69,
   "id": "c17695cf-c735-41be-bcb9-9d3d6c4bbc43",
   "metadata": {},
   "outputs": [
    {
     "data": {
      "text/plain": [
       "np.int64(0)"
      ]
     },
     "execution_count": 69,
     "metadata": {},
     "output_type": "execute_result"
    }
   ],
   "source": [
    "df.value.min()"
   ]
  },
  {
   "cell_type": "code",
   "execution_count": 70,
   "id": "9d703089-6425-47b9-b629-b54fbe64ae87",
   "metadata": {},
   "outputs": [
    {
     "data": {
      "text/plain": [
       "np.float64(2443.437067104401)"
      ]
     },
     "execution_count": 70,
     "metadata": {},
     "output_type": "execute_result"
    }
   ],
   "source": [
    "df.value.std()"
   ]
  },
  {
   "cell_type": "code",
   "execution_count": 71,
   "id": "7215f074-4448-4e79-9e74-7fd8de245450",
   "metadata": {},
   "outputs": [
    {
     "data": {
      "text/plain": [
       "np.float64(669.3437457650089)"
      ]
     },
     "execution_count": 71,
     "metadata": {},
     "output_type": "execute_result"
    }
   ],
   "source": [
    "df.value.mean()"
   ]
  },
  {
   "cell_type": "code",
   "execution_count": 72,
   "id": "b950e4a9-c0d8-4d31-a71e-e532f9a3302f",
   "metadata": {},
   "outputs": [
    {
     "data": {
      "text/plain": [
       "0    0\n",
       "Name: value, dtype: int64"
      ]
     },
     "execution_count": 72,
     "metadata": {},
     "output_type": "execute_result"
    }
   ],
   "source": [
    "df.value.mode()"
   ]
  },
  {
   "cell_type": "code",
   "execution_count": 73,
   "id": "6d47d06a-a817-474d-8a30-9bac98b20356",
   "metadata": {},
   "outputs": [
    {
     "data": {
      "text/plain": [
       "np.float64(90.0)"
      ]
     },
     "execution_count": 73,
     "metadata": {},
     "output_type": "execute_result"
    }
   ],
   "source": [
    "df.value.median()"
   ]
  },
  {
   "cell_type": "code",
   "execution_count": 75,
   "id": "86700f76-8d31-4af8-a9cb-d2bec8dd1693",
   "metadata": {},
   "outputs": [
    {
     "data": {
      "text/plain": [
       "314"
      ]
     },
     "execution_count": 75,
     "metadata": {},
     "output_type": "execute_result"
    }
   ],
   "source": [
    "df.description.nunique() # returns count of unique values"
   ]
  },
  {
   "cell_type": "code",
   "execution_count": 80,
   "id": "80cc4cb4-6235-4c7e-b9a5-8512c01f076c",
   "metadata": {},
   "outputs": [
    {
     "data": {
      "text/plain": [
       "array(['Business main customer: individuals or households',\n",
       "       'Business main customer: businesses within same group',\n",
       "       'Business main customer: retailers or wholesalers outside business group',\n",
       "       'Business main customer: other businesses outside business group',\n",
       "       'Business main customer: government'], dtype=object)"
      ]
     },
     "execution_count": 80,
     "metadata": {},
     "output_type": "execute_result"
    }
   ],
   "source": [
    "df.description.unique()[:5] # first 5 unique values"
   ]
  },
  {
   "cell_type": "code",
   "execution_count": 153,
   "id": "69786613-439c-49fc-a203-1aae2ef961da",
   "metadata": {},
   "outputs": [
    {
     "data": {
      "text/plain": [
       "description\n",
       "Are answers applicable to pricing processes used for business's other products: no                        1\n",
       "Are answers applicable to pricing processes used for business's other products: only sells one product    1\n",
       "Are answers applicable to pricing processes used for business's other products: yes                       1\n",
       "Business main customer: businesses within same group                                                      1\n",
       "Business main customer: government                                                                        1\n",
       "                                                                                                         ..\n",
       "When does business typically review price: regular intervals and in response to specific events           1\n",
       "When does business typically review price: regular intervals, regardless of specific events               1\n",
       "Who reviews and sets price: parent business                                                               1\n",
       "Who reviews and sets price: this business                                                                 1\n",
       "Who reviews and sets the price: other                                                                     1\n",
       "Name: description, Length: 314, dtype: int64"
      ]
     },
     "execution_count": 153,
     "metadata": {},
     "output_type": "execute_result"
    }
   ],
   "source": [
    "df.groupby('description').count() # returns count for all the columns\n",
    "df.groupby('description')['description'].nunique() # gives count for only the description column"
   ]
  },
  {
   "cell_type": "code",
   "execution_count": 93,
   "id": "46c325d7-e8a4-43a0-b3c5-3cf69e47c74d",
   "metadata": {},
   "outputs": [],
   "source": [
    "# adding a new null column -- static value column\n",
    "df['transport'] = ['kalley' for i in range(len(df))]"
   ]
  },
  {
   "cell_type": "code",
   "execution_count": 94,
   "id": "c60f3dc1-dc89-4802-929b-c414382f3d6b",
   "metadata": {
    "scrolled": true
   },
   "outputs": [
    {
     "data": {
      "text/plain": [
       "pandas.core.series.Series"
      ]
     },
     "execution_count": 94,
     "metadata": {},
     "output_type": "execute_result"
    }
   ],
   "source": [
    "type(df.transport)"
   ]
  },
  {
   "cell_type": "code",
   "execution_count": 95,
   "id": "3a11cf28-4561-4a52-ab66-3467797338be",
   "metadata": {},
   "outputs": [
    {
     "data": {
      "text/plain": [
       "0        kalley\n",
       "1        kalley\n",
       "2        kalley\n",
       "3        kalley\n",
       "4        kalley\n",
       "          ...  \n",
       "14753    kalley\n",
       "14754    kalley\n",
       "14755    kalley\n",
       "14756    kalley\n",
       "14757    kalley\n",
       "Name: transport, Length: 14758, dtype: object"
      ]
     },
     "execution_count": 95,
     "metadata": {},
     "output_type": "execute_result"
    }
   ],
   "source": [
    "df.transport"
   ]
  },
  {
   "cell_type": "code",
   "execution_count": 114,
   "id": "9a3d69ed-67d0-4e93-9aa3-d68a62b8b0cc",
   "metadata": {},
   "outputs": [],
   "source": [
    "# adding static value to a column\n",
    "df['value+2'] = df.value+2"
   ]
  },
  {
   "cell_type": "code",
   "execution_count": 115,
   "id": "de49095a-3e0e-435e-a46f-e69390155cd2",
   "metadata": {},
   "outputs": [
    {
     "data": {
      "text/html": [
       "<div>\n",
       "<style scoped>\n",
       "    .dataframe tbody tr th:only-of-type {\n",
       "        vertical-align: middle;\n",
       "    }\n",
       "\n",
       "    .dataframe tbody tr th {\n",
       "        vertical-align: top;\n",
       "    }\n",
       "\n",
       "    .dataframe thead th {\n",
       "        text-align: right;\n",
       "    }\n",
       "</style>\n",
       "<table border=\"1\" class=\"dataframe\">\n",
       "  <thead>\n",
       "    <tr style=\"text-align: right;\">\n",
       "      <th></th>\n",
       "      <th>value</th>\n",
       "      <th>value+2</th>\n",
       "    </tr>\n",
       "  </thead>\n",
       "  <tbody>\n",
       "    <tr>\n",
       "      <th>0</th>\n",
       "      <td>15639</td>\n",
       "      <td>15641</td>\n",
       "    </tr>\n",
       "    <tr>\n",
       "      <th>1</th>\n",
       "      <td>2943</td>\n",
       "      <td>2945</td>\n",
       "    </tr>\n",
       "    <tr>\n",
       "      <th>2</th>\n",
       "      <td>639</td>\n",
       "      <td>641</td>\n",
       "    </tr>\n",
       "    <tr>\n",
       "      <th>3</th>\n",
       "      <td>555</td>\n",
       "      <td>557</td>\n",
       "    </tr>\n",
       "    <tr>\n",
       "      <th>4</th>\n",
       "      <td>348</td>\n",
       "      <td>350</td>\n",
       "    </tr>\n",
       "  </tbody>\n",
       "</table>\n",
       "</div>"
      ],
      "text/plain": [
       "   value  value+2\n",
       "0  15639    15641\n",
       "1   2943     2945\n",
       "2    639      641\n",
       "3    555      557\n",
       "4    348      350"
      ]
     },
     "execution_count": 115,
     "metadata": {},
     "output_type": "execute_result"
    }
   ],
   "source": [
    "df[['value','value+2']].head()"
   ]
  },
  {
   "cell_type": "code",
   "execution_count": 116,
   "id": "0f0e5407-4918-4120-adf1-67bfc088e78b",
   "metadata": {},
   "outputs": [
    {
     "data": {
      "text/html": [
       "<div>\n",
       "<style scoped>\n",
       "    .dataframe tbody tr th:only-of-type {\n",
       "        vertical-align: middle;\n",
       "    }\n",
       "\n",
       "    .dataframe tbody tr th {\n",
       "        vertical-align: top;\n",
       "    }\n",
       "\n",
       "    .dataframe thead th {\n",
       "        text-align: right;\n",
       "    }\n",
       "</style>\n",
       "<table border=\"1\" class=\"dataframe\">\n",
       "  <thead>\n",
       "    <tr style=\"text-align: right;\">\n",
       "      <th></th>\n",
       "      <th>value</th>\n",
       "      <th>value+2</th>\n",
       "    </tr>\n",
       "  </thead>\n",
       "  <tbody>\n",
       "    <tr>\n",
       "      <th>0</th>\n",
       "      <td>15639</td>\n",
       "      <td>15641</td>\n",
       "    </tr>\n",
       "    <tr>\n",
       "      <th>1</th>\n",
       "      <td>2943</td>\n",
       "      <td>2945</td>\n",
       "    </tr>\n",
       "    <tr>\n",
       "      <th>2</th>\n",
       "      <td>639</td>\n",
       "      <td>641</td>\n",
       "    </tr>\n",
       "    <tr>\n",
       "      <th>3</th>\n",
       "      <td>555</td>\n",
       "      <td>557</td>\n",
       "    </tr>\n",
       "    <tr>\n",
       "      <th>4</th>\n",
       "      <td>348</td>\n",
       "      <td>350</td>\n",
       "    </tr>\n",
       "  </tbody>\n",
       "</table>\n",
       "</div>"
      ],
      "text/plain": [
       "   value  value+2\n",
       "0  15639    15641\n",
       "1   2943     2945\n",
       "2    639      641\n",
       "3    555      557\n",
       "4    348      350"
      ]
     },
     "execution_count": 116,
     "metadata": {},
     "output_type": "execute_result"
    }
   ],
   "source": [
    "df.loc[:,['value','value+2']].head()"
   ]
  },
  {
   "cell_type": "code",
   "execution_count": 117,
   "id": "2f3ed9ff-4a69-4bd3-b6be-32c1ba27b9c3",
   "metadata": {},
   "outputs": [
    {
     "data": {
      "text/plain": [
       "0        31280\n",
       "1         5888\n",
       "2         1280\n",
       "3         1112\n",
       "4          698\n",
       "         ...  \n",
       "14753        8\n",
       "14754       74\n",
       "14755        2\n",
       "14756        2\n",
       "14757      350\n",
       "Length: 14758, dtype: int64"
      ]
     },
     "execution_count": 117,
     "metadata": {},
     "output_type": "execute_result"
    }
   ],
   "source": [
    "# adding one column to another of same type \n",
    "df['value']+df['value+2']"
   ]
  },
  {
   "cell_type": "code",
   "execution_count": 121,
   "id": "55a07f54-549d-4d8f-8f21-35b89769fb9a",
   "metadata": {},
   "outputs": [
    {
     "data": {
      "text/plain": [
       "0        0.999872\n",
       "1        0.999321\n",
       "2        0.996880\n",
       "3        0.996409\n",
       "4        0.994286\n",
       "           ...   \n",
       "14753    0.600000\n",
       "14754    0.947368\n",
       "14755    0.000000\n",
       "14756    0.000000\n",
       "14757    0.988636\n",
       "Length: 14758, dtype: float64"
      ]
     },
     "execution_count": 121,
     "metadata": {},
     "output_type": "execute_result"
    }
   ],
   "source": [
    "# performing other match ops +,-,*,/,//\n",
    "df['value']/df['value+2']"
   ]
  },
  {
   "cell_type": "code",
   "execution_count": 130,
   "id": "18f4ee83-2e12-41a7-b813-43129120d8ee",
   "metadata": {},
   "outputs": [
    {
     "data": {
      "text/plain": [
       "['Business m', 'Business m', 'Business m', 'Business m', 'Business m']"
      ]
     },
     "execution_count": 130,
     "metadata": {},
     "output_type": "execute_result"
    }
   ],
   "source": [
    "# i want every element of this list to be of 10 characters max\n",
    "[i[:10] for i in df.loc[:,'description'].to_list()][:5]"
   ]
  },
  {
   "cell_type": "code",
   "execution_count": 138,
   "id": "c9b1aa76-15c9-4779-bd26-d85aa18213d9",
   "metadata": {},
   "outputs": [],
   "source": [
    "# can i zip two columns of a dataframe\n",
    "df2 = pd.DataFrame(zip(df.value,df.line_code))"
   ]
  },
  {
   "cell_type": "code",
   "execution_count": 141,
   "id": "6afe1cf2-16e5-4d55-ab1d-913bcf3c9a67",
   "metadata": {},
   "outputs": [],
   "source": [
    "df2.columns = ['value','line_code']"
   ]
  },
  {
   "cell_type": "code",
   "execution_count": 143,
   "id": "979b9e66-c77c-4faf-b9d8-1330118033e1",
   "metadata": {},
   "outputs": [
    {
     "data": {
      "text/html": [
       "<div>\n",
       "<style scoped>\n",
       "    .dataframe tbody tr th:only-of-type {\n",
       "        vertical-align: middle;\n",
       "    }\n",
       "\n",
       "    .dataframe tbody tr th {\n",
       "        vertical-align: top;\n",
       "    }\n",
       "\n",
       "    .dataframe thead th {\n",
       "        text-align: right;\n",
       "    }\n",
       "</style>\n",
       "<table border=\"1\" class=\"dataframe\">\n",
       "  <thead>\n",
       "    <tr style=\"text-align: right;\">\n",
       "      <th></th>\n",
       "      <th>value</th>\n",
       "      <th>line_code</th>\n",
       "    </tr>\n",
       "  </thead>\n",
       "  <tbody>\n",
       "    <tr>\n",
       "      <th>0</th>\n",
       "      <td>15639</td>\n",
       "      <td>C0300.01</td>\n",
       "    </tr>\n",
       "    <tr>\n",
       "      <th>1</th>\n",
       "      <td>2943</td>\n",
       "      <td>C0300.01</td>\n",
       "    </tr>\n",
       "    <tr>\n",
       "      <th>2</th>\n",
       "      <td>639</td>\n",
       "      <td>C0300.01</td>\n",
       "    </tr>\n",
       "    <tr>\n",
       "      <th>3</th>\n",
       "      <td>555</td>\n",
       "      <td>C0300.01</td>\n",
       "    </tr>\n",
       "    <tr>\n",
       "      <th>4</th>\n",
       "      <td>348</td>\n",
       "      <td>C0300.01</td>\n",
       "    </tr>\n",
       "  </tbody>\n",
       "</table>\n",
       "</div>"
      ],
      "text/plain": [
       "   value line_code\n",
       "0  15639  C0300.01\n",
       "1   2943  C0300.01\n",
       "2    639  C0300.01\n",
       "3    555  C0300.01\n",
       "4    348  C0300.01"
      ]
     },
     "execution_count": 143,
     "metadata": {},
     "output_type": "execute_result"
    }
   ],
   "source": [
    "df2.head()"
   ]
  },
  {
   "cell_type": "code",
   "execution_count": 148,
   "id": "ad445962-2fee-4442-830b-78473caef9c9",
   "metadata": {},
   "outputs": [
    {
     "data": {
      "text/plain": [
       "0     619 employees\n",
       "1    2049 employees\n",
       "2    5099 employees\n",
       "3     100+ employees\n",
       "4              total\n",
       "Name: size, dtype: object"
      ]
     },
     "execution_count": 148,
     "metadata": {},
     "output_type": "execute_result"
    }
   ],
   "source": [
    "df['size'].head()"
   ]
  },
  {
   "cell_type": "code",
   "execution_count": 169,
   "id": "4d5cd717-6b81-42cc-a41e-a11067f0003b",
   "metadata": {},
   "outputs": [
    {
     "data": {
      "text/html": [
       "<div>\n",
       "<style scoped>\n",
       "    .dataframe tbody tr th:only-of-type {\n",
       "        vertical-align: middle;\n",
       "    }\n",
       "\n",
       "    .dataframe tbody tr th {\n",
       "        vertical-align: top;\n",
       "    }\n",
       "\n",
       "    .dataframe thead th {\n",
       "        text-align: right;\n",
       "    }\n",
       "</style>\n",
       "<table border=\"1\" class=\"dataframe\">\n",
       "  <thead>\n",
       "    <tr style=\"text-align: right;\">\n",
       "      <th></th>\n",
       "      <th>description</th>\n",
       "      <th>industry</th>\n",
       "      <th>level</th>\n",
       "      <th>size</th>\n",
       "      <th>line_code</th>\n",
       "      <th>value</th>\n",
       "    </tr>\n",
       "  </thead>\n",
       "  <tbody>\n",
       "    <tr>\n",
       "      <th>0</th>\n",
       "      <td>Business main customer: individuals or households</td>\n",
       "      <td>total</td>\n",
       "      <td>0</td>\n",
       "      <td>619 employees</td>\n",
       "      <td>C0300.01</td>\n",
       "      <td>15639</td>\n",
       "    </tr>\n",
       "    <tr>\n",
       "      <th>1</th>\n",
       "      <td>Business main customer: individuals or households</td>\n",
       "      <td>total</td>\n",
       "      <td>0</td>\n",
       "      <td>2049 employees</td>\n",
       "      <td>C0300.01</td>\n",
       "      <td>2943</td>\n",
       "    </tr>\n",
       "    <tr>\n",
       "      <th>2</th>\n",
       "      <td>Business main customer: individuals or households</td>\n",
       "      <td>total</td>\n",
       "      <td>0</td>\n",
       "      <td>5099 employees</td>\n",
       "      <td>C0300.01</td>\n",
       "      <td>639</td>\n",
       "    </tr>\n",
       "    <tr>\n",
       "      <th>3</th>\n",
       "      <td>Business main customer: individuals or households</td>\n",
       "      <td>total</td>\n",
       "      <td>0</td>\n",
       "      <td>100+ employees</td>\n",
       "      <td>C0300.01</td>\n",
       "      <td>555</td>\n",
       "    </tr>\n",
       "    <tr>\n",
       "      <th>47</th>\n",
       "      <td>Business main customer: businesses within same...</td>\n",
       "      <td>total</td>\n",
       "      <td>0</td>\n",
       "      <td>619 employees</td>\n",
       "      <td>C0300.02</td>\n",
       "      <td>2970</td>\n",
       "    </tr>\n",
       "    <tr>\n",
       "      <th>...</th>\n",
       "      <td>...</td>\n",
       "      <td>...</td>\n",
       "      <td>...</td>\n",
       "      <td>...</td>\n",
       "      <td>...</td>\n",
       "      <td>...</td>\n",
       "    </tr>\n",
       "    <tr>\n",
       "      <th>14667</th>\n",
       "      <td>How union representation of employees has affe...</td>\n",
       "      <td>total</td>\n",
       "      <td>0</td>\n",
       "      <td>100+ employees</td>\n",
       "      <td>C3307.03</td>\n",
       "      <td>66</td>\n",
       "    </tr>\n",
       "    <tr>\n",
       "      <th>14711</th>\n",
       "      <td>How union representation of employees has affe...</td>\n",
       "      <td>total</td>\n",
       "      <td>0</td>\n",
       "      <td>619 employees</td>\n",
       "      <td>C3307.04</td>\n",
       "      <td>84</td>\n",
       "    </tr>\n",
       "    <tr>\n",
       "      <th>14712</th>\n",
       "      <td>How union representation of employees has affe...</td>\n",
       "      <td>total</td>\n",
       "      <td>0</td>\n",
       "      <td>2049 employees</td>\n",
       "      <td>C3307.04</td>\n",
       "      <td>18</td>\n",
       "    </tr>\n",
       "    <tr>\n",
       "      <th>14713</th>\n",
       "      <td>How union representation of employees has affe...</td>\n",
       "      <td>total</td>\n",
       "      <td>0</td>\n",
       "      <td>5099 employees</td>\n",
       "      <td>C3307.04</td>\n",
       "      <td>27</td>\n",
       "    </tr>\n",
       "    <tr>\n",
       "      <th>14714</th>\n",
       "      <td>How union representation of employees has affe...</td>\n",
       "      <td>total</td>\n",
       "      <td>0</td>\n",
       "      <td>100+ employees</td>\n",
       "      <td>C3307.04</td>\n",
       "      <td>42</td>\n",
       "    </tr>\n",
       "  </tbody>\n",
       "</table>\n",
       "<p>1256 rows × 6 columns</p>\n",
       "</div>"
      ],
      "text/plain": [
       "                                             description industry  level  \\\n",
       "0      Business main customer: individuals or households    total      0   \n",
       "1      Business main customer: individuals or households    total      0   \n",
       "2      Business main customer: individuals or households    total      0   \n",
       "3      Business main customer: individuals or households    total      0   \n",
       "47     Business main customer: businesses within same...    total      0   \n",
       "...                                                  ...      ...    ...   \n",
       "14667  How union representation of employees has affe...    total      0   \n",
       "14711  How union representation of employees has affe...    total      0   \n",
       "14712  How union representation of employees has affe...    total      0   \n",
       "14713  How union representation of employees has affe...    total      0   \n",
       "14714  How union representation of employees has affe...    total      0   \n",
       "\n",
       "                  size line_code  value  \n",
       "0       619 employees  C0300.01  15639  \n",
       "1      2049 employees  C0300.01   2943  \n",
       "2      5099 employees  C0300.01    639  \n",
       "3       100+ employees  C0300.01    555  \n",
       "47      619 employees  C0300.02   2970  \n",
       "...                ...       ...    ...  \n",
       "14667   100+ employees  C3307.03     66  \n",
       "14711   619 employees  C3307.04     84  \n",
       "14712  2049 employees  C3307.04     18  \n",
       "14713  5099 employees  C3307.04     27  \n",
       "14714   100+ employees  C3307.04     42  \n",
       "\n",
       "[1256 rows x 6 columns]"
      ]
     },
     "execution_count": 169,
     "metadata": {},
     "output_type": "execute_result"
    }
   ],
   "source": [
    "# size columns will consist of numbers and strings i have to get the rows in which i am having some numbers\n",
    "df[df['size'].str.contains(r'\\d+',na=False)].iloc[:,:6]\n",
    "df[df['size'].str.contains('employee',na=False)].iloc[:,:6]"
   ]
  },
  {
   "cell_type": "code",
   "execution_count": 173,
   "id": "c8193825-e244-4768-b510-f47abfd65e19",
   "metadata": {},
   "outputs": [],
   "source": [
    "# renaming a column"
   ]
  },
  {
   "cell_type": "code",
   "execution_count": 174,
   "id": "3a314731-2e69-4497-a080-8a4184901b14",
   "metadata": {},
   "outputs": [],
   "source": [
    "# dropping a column"
   ]
  },
  {
   "cell_type": "code",
   "execution_count": 175,
   "id": "ea0c0146-f112-4145-aa90-e154921cfc18",
   "metadata": {},
   "outputs": [],
   "source": [
    "# dropping multiple columns "
   ]
  },
  {
   "cell_type": "code",
   "execution_count": null,
   "id": "974f15a0-c77e-408f-b6c5-6e06f56f7861",
   "metadata": {},
   "outputs": [],
   "source": []
  }
 ],
 "metadata": {
  "kernelspec": {
   "display_name": "Python 3 (ipykernel)",
   "language": "python",
   "name": "python3"
  },
  "language_info": {
   "codemirror_mode": {
    "name": "ipython",
    "version": 3
   },
   "file_extension": ".py",
   "mimetype": "text/x-python",
   "name": "python",
   "nbconvert_exporter": "python",
   "pygments_lexer": "ipython3",
   "version": "3.11.9"
  }
 },
 "nbformat": 4,
 "nbformat_minor": 5
}
