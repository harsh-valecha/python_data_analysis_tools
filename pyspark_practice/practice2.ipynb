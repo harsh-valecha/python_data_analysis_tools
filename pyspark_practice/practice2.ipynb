{
 "cells": [
  {
   "cell_type": "code",
   "execution_count": 1,
   "id": "12bc6c0f-a0c7-466d-bd8f-bbaa07b7ce85",
   "metadata": {},
   "outputs": [],
   "source": [
    "import pandas as pd"
   ]
  },
  {
   "cell_type": "code",
   "execution_count": 5,
   "id": "7322ab3f-32cf-4263-adc5-6f17311e2d89",
   "metadata": {},
   "outputs": [],
   "source": [
    "df= pd.read_csv('data1.csv',encoding='latin1')"
   ]
  },
  {
   "cell_type": "code",
   "execution_count": 6,
   "id": "1e6d6974-63b0-4237-a159-1ab9f24dd174",
   "metadata": {},
   "outputs": [
    {
     "data": {
      "text/plain": [
       "Index(['description', 'industry', 'level', 'size', 'line_code', 'value'], dtype='object')"
      ]
     },
     "execution_count": 6,
     "metadata": {},
     "output_type": "execute_result"
    }
   ],
   "source": [
    "df.columns"
   ]
  },
  {
   "cell_type": "code",
   "execution_count": 8,
   "id": "f0052b6c-5594-4f2f-b556-c43382cf7020",
   "metadata": {},
   "outputs": [
    {
     "data": {
      "text/plain": [
       "2"
      ]
     },
     "execution_count": 8,
     "metadata": {},
     "output_type": "execute_result"
    }
   ],
   "source": [
    "df.ndim"
   ]
  },
  {
   "cell_type": "code",
   "execution_count": 10,
   "id": "9672ae0b-9a1c-47ac-8c79-478cd41c1403",
   "metadata": {},
   "outputs": [
    {
     "data": {
      "text/plain": [
       "14758"
      ]
     },
     "execution_count": 10,
     "metadata": {},
     "output_type": "execute_result"
    }
   ],
   "source": [
    "len(df) # return number of rows"
   ]
  },
  {
   "cell_type": "code",
   "execution_count": 26,
   "id": "14e79272-41e2-448b-82d6-14b242106790",
   "metadata": {},
   "outputs": [
    {
     "data": {
      "text/html": [
       "<div>\n",
       "<style scoped>\n",
       "    .dataframe tbody tr th:only-of-type {\n",
       "        vertical-align: middle;\n",
       "    }\n",
       "\n",
       "    .dataframe tbody tr th {\n",
       "        vertical-align: top;\n",
       "    }\n",
       "\n",
       "    .dataframe thead th {\n",
       "        text-align: right;\n",
       "    }\n",
       "</style>\n",
       "<table border=\"1\" class=\"dataframe\">\n",
       "  <thead>\n",
       "    <tr style=\"text-align: right;\">\n",
       "      <th></th>\n",
       "      <th>description</th>\n",
       "      <th>industry</th>\n",
       "      <th>level</th>\n",
       "      <th>size</th>\n",
       "      <th>line_code</th>\n",
       "      <th>value</th>\n",
       "    </tr>\n",
       "  </thead>\n",
       "  <tbody>\n",
       "    <tr>\n",
       "      <th>0</th>\n",
       "      <td>Business main customer: individuals or households</td>\n",
       "      <td>total</td>\n",
       "      <td>0</td>\n",
       "      <td>619 employees</td>\n",
       "      <td>C0300.01</td>\n",
       "      <td>15639</td>\n",
       "    </tr>\n",
       "    <tr>\n",
       "      <th>1</th>\n",
       "      <td>Business main customer: individuals or households</td>\n",
       "      <td>total</td>\n",
       "      <td>0</td>\n",
       "      <td>2049 employees</td>\n",
       "      <td>C0300.01</td>\n",
       "      <td>2943</td>\n",
       "    </tr>\n",
       "    <tr>\n",
       "      <th>2</th>\n",
       "      <td>Business main customer: individuals or households</td>\n",
       "      <td>total</td>\n",
       "      <td>0</td>\n",
       "      <td>5099 employees</td>\n",
       "      <td>C0300.01</td>\n",
       "      <td>639</td>\n",
       "    </tr>\n",
       "    <tr>\n",
       "      <th>3</th>\n",
       "      <td>Business main customer: individuals or households</td>\n",
       "      <td>total</td>\n",
       "      <td>0</td>\n",
       "      <td>100+ employees</td>\n",
       "      <td>C0300.01</td>\n",
       "      <td>555</td>\n",
       "    </tr>\n",
       "    <tr>\n",
       "      <th>4</th>\n",
       "      <td>Business main customer: individuals or households</td>\n",
       "      <td>Agriculture, forestry, &amp; fishing</td>\n",
       "      <td>1</td>\n",
       "      <td>total</td>\n",
       "      <td>C0300.01</td>\n",
       "      <td>348</td>\n",
       "    </tr>\n",
       "    <tr>\n",
       "      <th>5</th>\n",
       "      <td>Business main customer: individuals or households</td>\n",
       "      <td>Agriculture</td>\n",
       "      <td>2</td>\n",
       "      <td>total</td>\n",
       "      <td>C0300.01</td>\n",
       "      <td>177</td>\n",
       "    </tr>\n",
       "    <tr>\n",
       "      <th>6</th>\n",
       "      <td>Business main customer: individuals or households</td>\n",
       "      <td>Commercial fishing</td>\n",
       "      <td>2</td>\n",
       "      <td>total</td>\n",
       "      <td>C0300.01</td>\n",
       "      <td>3</td>\n",
       "    </tr>\n",
       "    <tr>\n",
       "      <th>7</th>\n",
       "      <td>Business main customer: individuals or households</td>\n",
       "      <td>Forestry &amp; logging</td>\n",
       "      <td>2</td>\n",
       "      <td>total</td>\n",
       "      <td>C0300.01</td>\n",
       "      <td>12</td>\n",
       "    </tr>\n",
       "    <tr>\n",
       "      <th>8</th>\n",
       "      <td>Business main customer: individuals or households</td>\n",
       "      <td>Agriculture, forestry, &amp; fishing support services</td>\n",
       "      <td>2</td>\n",
       "      <td>total</td>\n",
       "      <td>C0300.01</td>\n",
       "      <td>159</td>\n",
       "    </tr>\n",
       "    <tr>\n",
       "      <th>9</th>\n",
       "      <td>Business main customer: individuals or households</td>\n",
       "      <td>Mining</td>\n",
       "      <td>1</td>\n",
       "      <td>total</td>\n",
       "      <td>C0300.01</td>\n",
       "      <td>12</td>\n",
       "    </tr>\n",
       "  </tbody>\n",
       "</table>\n",
       "</div>"
      ],
      "text/plain": [
       "                                         description  \\\n",
       "0  Business main customer: individuals or households   \n",
       "1  Business main customer: individuals or households   \n",
       "2  Business main customer: individuals or households   \n",
       "3  Business main customer: individuals or households   \n",
       "4  Business main customer: individuals or households   \n",
       "5  Business main customer: individuals or households   \n",
       "6  Business main customer: individuals or households   \n",
       "7  Business main customer: individuals or households   \n",
       "8  Business main customer: individuals or households   \n",
       "9  Business main customer: individuals or households   \n",
       "\n",
       "                                            industry  level             size  \\\n",
       "0                                              total      0   619 employees   \n",
       "1                                              total      0  2049 employees   \n",
       "2                                              total      0  5099 employees   \n",
       "3                                              total      0   100+ employees   \n",
       "4                   Agriculture, forestry, & fishing      1            total   \n",
       "5                                        Agriculture      2            total   \n",
       "6                                 Commercial fishing      2            total   \n",
       "7                                 Forestry & logging      2            total   \n",
       "8  Agriculture, forestry, & fishing support services      2            total   \n",
       "9                                             Mining      1            total   \n",
       "\n",
       "  line_code  value  \n",
       "0  C0300.01  15639  \n",
       "1  C0300.01   2943  \n",
       "2  C0300.01    639  \n",
       "3  C0300.01    555  \n",
       "4  C0300.01    348  \n",
       "5  C0300.01    177  \n",
       "6  C0300.01      3  \n",
       "7  C0300.01     12  \n",
       "8  C0300.01    159  \n",
       "9  C0300.01     12  "
      ]
     },
     "execution_count": 26,
     "metadata": {},
     "output_type": "execute_result"
    }
   ],
   "source": [
    "df.head(10)"
   ]
  },
  {
   "cell_type": "code",
   "execution_count": 17,
   "id": "3638bfb5-f7cc-4021-b9df-aaf726ff39bf",
   "metadata": {},
   "outputs": [
    {
     "data": {
      "text/plain": [
       "description    Business main customer: individuals or households\n",
       "industry                                                   total\n",
       "level                                                          0\n",
       "size                                              100+ employees\n",
       "line_code                                               C0300.01\n",
       "value                                                        555\n",
       "Name: 3, dtype: object"
      ]
     },
     "execution_count": 17,
     "metadata": {},
     "output_type": "execute_result"
    }
   ],
   "source": [
    "#printing nth row\n",
    "n = 3\n",
    "df.iloc[3] # 3rd row"
   ]
  },
  {
   "cell_type": "code",
   "execution_count": 19,
   "id": "fde98c44-0981-4898-a016-fe39c0a0deb5",
   "metadata": {},
   "outputs": [
    {
     "data": {
      "text/plain": [
       "description    Business main customer: individuals or households\n",
       "industry                                                   total\n",
       "level                                                          0\n",
       "size                                              100+ employees\n",
       "line_code                                               C0300.01\n",
       "value                                                        555\n",
       "Name: 3, dtype: object"
      ]
     },
     "execution_count": 19,
     "metadata": {},
     "output_type": "execute_result"
    }
   ],
   "source": [
    "# another example but using loc\n",
    "df.loc[3]"
   ]
  },
  {
   "cell_type": "code",
   "execution_count": 32,
   "id": "0f9007c7-71cc-47a0-9943-88547a65f9b0",
   "metadata": {},
   "outputs": [
    {
     "data": {
      "text/plain": [
       "0    15639\n",
       "1     2943\n",
       "2      639\n",
       "Name: value, dtype: int64"
      ]
     },
     "execution_count": 32,
     "metadata": {},
     "output_type": "execute_result"
    }
   ],
   "source": [
    "# loc -- label based indexing , iloc -- index based indexing \n",
    "df.loc[0:2]['value']"
   ]
  },
  {
   "cell_type": "code",
   "execution_count": 33,
   "id": "03922652-7e33-4d5d-95b5-a7de661773c6",
   "metadata": {},
   "outputs": [
    {
     "data": {
      "text/plain": [
       "0    15639\n",
       "1     2943\n",
       "2      639\n",
       "Name: value, dtype: int64"
      ]
     },
     "execution_count": 33,
     "metadata": {},
     "output_type": "execute_result"
    }
   ],
   "source": [
    "df.loc[0:2]['value']"
   ]
  },
  {
   "cell_type": "code",
   "execution_count": 37,
   "id": "b8203dd3-b584-4c07-9020-297fea62c94a",
   "metadata": {},
   "outputs": [
    {
     "data": {
      "text/plain": [
       "count    14758.000000\n",
       "mean       669.343746\n",
       "std       2443.437067\n",
       "min          0.000000\n",
       "25%         18.000000\n",
       "50%         90.000000\n",
       "75%        377.250000\n",
       "max      44877.000000\n",
       "Name: value, dtype: float64"
      ]
     },
     "execution_count": 37,
     "metadata": {},
     "output_type": "execute_result"
    }
   ],
   "source": [
    "df['value'].describe()"
   ]
  },
  {
   "cell_type": "code",
   "execution_count": 39,
   "id": "fe530264-af2c-40ea-a906-b451698fd98f",
   "metadata": {},
   "outputs": [
    {
     "data": {
      "text/plain": [
       "pandas.core.series.Series"
      ]
     },
     "execution_count": 39,
     "metadata": {},
     "output_type": "execute_result"
    }
   ],
   "source": [
    "type(df.value)"
   ]
  },
  {
   "cell_type": "code",
   "execution_count": 38,
   "id": "fe795537-a83d-4d60-9646-ef1d20b15f38",
   "metadata": {},
   "outputs": [
    {
     "data": {
      "text/plain": [
       "np.int64(14758)"
      ]
     },
     "execution_count": 38,
     "metadata": {},
     "output_type": "execute_result"
    }
   ],
   "source": [
    "## accessing all these property one by one \n",
    "df.value.count()"
   ]
  },
  {
   "cell_type": "code",
   "execution_count": 49,
   "id": "3d4bc7c8-c35d-4b4f-b209-38ffdb981957",
   "metadata": {},
   "outputs": [
    {
     "name": "stdout",
     "output_type": "stream",
     "text": [
      "<class 'pandas.core.frame.DataFrame'>\n",
      "RangeIndex: 14758 entries, 0 to 14757\n",
      "Data columns (total 6 columns):\n",
      " #   Column       Non-Null Count  Dtype \n",
      "---  ------       --------------  ----- \n",
      " 0   description  14758 non-null  object\n",
      " 1   industry     14758 non-null  object\n",
      " 2   level        14758 non-null  int64 \n",
      " 3   size         14758 non-null  object\n",
      " 4   line_code    14758 non-null  object\n",
      " 5   value        14758 non-null  int64 \n",
      "dtypes: int64(2), object(4)\n",
      "memory usage: 691.9+ KB\n"
     ]
    }
   ],
   "source": [
    "df.info()"
   ]
  },
  {
   "cell_type": "code",
   "execution_count": 41,
   "id": "9d0ead02-8dee-47c1-85aa-e0d3205c2c6c",
   "metadata": {},
   "outputs": [
    {
     "data": {
      "text/plain": [
       "True"
      ]
     },
     "execution_count": 41,
     "metadata": {},
     "output_type": "execute_result"
    }
   ],
   "source": [
    "type(df['value'])==type(df.value) ## both returns series"
   ]
  },
  {
   "cell_type": "code",
   "execution_count": 42,
   "id": "50c75c2d-9039-42d4-999a-17941d9e0550",
   "metadata": {},
   "outputs": [
    {
     "data": {
      "text/plain": [
       "0        15639\n",
       "1         2943\n",
       "2          639\n",
       "3          555\n",
       "4          348\n",
       "         ...  \n",
       "14753        3\n",
       "14754       36\n",
       "14755        0\n",
       "14756        0\n",
       "14757      174\n",
       "Name: value, Length: 14758, dtype: int64"
      ]
     },
     "execution_count": 42,
     "metadata": {},
     "output_type": "execute_result"
    }
   ],
   "source": [
    "df.value"
   ]
  },
  {
   "cell_type": "code",
   "execution_count": 56,
   "id": "2c0691ca-813a-4c95-a103-58e1b3184fb4",
   "metadata": {},
   "outputs": [
    {
     "data": {
      "text/plain": [
       "[15639, 2943, 639, 555, 348, 177, 3, 12, 159, 12]"
      ]
     },
     "execution_count": 56,
     "metadata": {},
     "output_type": "execute_result"
    }
   ],
   "source": [
    "df['value'].to_list()[:10] # first 10 values"
   ]
  },
  {
   "cell_type": "code",
   "execution_count": 57,
   "id": "a3ddb846-65d1-4d13-be4b-943fa94e08b9",
   "metadata": {},
   "outputs": [],
   "source": [
    "# checking if any column in dataframe has null valued"
   ]
  },
  {
   "cell_type": "code",
   "execution_count": 61,
   "id": "8f238cdc-d066-465e-a5f3-66e1af32239b",
   "metadata": {},
   "outputs": [
    {
     "data": {
      "text/html": [
       "<div>\n",
       "<style scoped>\n",
       "    .dataframe tbody tr th:only-of-type {\n",
       "        vertical-align: middle;\n",
       "    }\n",
       "\n",
       "    .dataframe tbody tr th {\n",
       "        vertical-align: top;\n",
       "    }\n",
       "\n",
       "    .dataframe thead th {\n",
       "        text-align: right;\n",
       "    }\n",
       "</style>\n",
       "<table border=\"1\" class=\"dataframe\">\n",
       "  <thead>\n",
       "    <tr style=\"text-align: right;\">\n",
       "      <th></th>\n",
       "      <th>description</th>\n",
       "      <th>industry</th>\n",
       "      <th>level</th>\n",
       "      <th>size</th>\n",
       "      <th>line_code</th>\n",
       "      <th>value</th>\n",
       "    </tr>\n",
       "  </thead>\n",
       "  <tbody>\n",
       "    <tr>\n",
       "      <th>0</th>\n",
       "      <td>False</td>\n",
       "      <td>False</td>\n",
       "      <td>False</td>\n",
       "      <td>False</td>\n",
       "      <td>False</td>\n",
       "      <td>False</td>\n",
       "    </tr>\n",
       "    <tr>\n",
       "      <th>1</th>\n",
       "      <td>False</td>\n",
       "      <td>False</td>\n",
       "      <td>False</td>\n",
       "      <td>False</td>\n",
       "      <td>False</td>\n",
       "      <td>False</td>\n",
       "    </tr>\n",
       "  </tbody>\n",
       "</table>\n",
       "</div>"
      ],
      "text/plain": [
       "   description  industry  level   size  line_code  value\n",
       "0        False     False  False  False      False  False\n",
       "1        False     False  False  False      False  False"
      ]
     },
     "execution_count": 61,
     "metadata": {},
     "output_type": "execute_result"
    }
   ],
   "source": [
    "df.isnull().head(2) # checks all the values for null"
   ]
  },
  {
   "cell_type": "code",
   "execution_count": 63,
   "id": "66acb118-f228-4c96-885d-be4788f566ae",
   "metadata": {},
   "outputs": [
    {
     "data": {
      "text/plain": [
       "description    False\n",
       "industry       False\n",
       "level          False\n",
       "size           False\n",
       "line_code      False\n",
       "value          False\n",
       "dtype: bool"
      ]
     },
     "execution_count": 63,
     "metadata": {},
     "output_type": "execute_result"
    }
   ],
   "source": [
    "df.isnull().any() # checks for all the columns regarding null values"
   ]
  },
  {
   "cell_type": "code",
   "execution_count": 64,
   "id": "c2ae0d85-9f5b-4821-a378-c8d2aa61845a",
   "metadata": {},
   "outputs": [
    {
     "data": {
      "text/plain": [
       "np.False_"
      ]
     },
     "execution_count": 64,
     "metadata": {},
     "output_type": "execute_result"
    }
   ],
   "source": [
    "df.isnull().any().any()"
   ]
  },
  {
   "cell_type": "code",
   "execution_count": 66,
   "id": "bdd98e5d-7a66-4c39-bd06-16f570a0c1f8",
   "metadata": {},
   "outputs": [
    {
     "data": {
      "text/plain": [
       "description    False\n",
       "industry       False\n",
       "level          False\n",
       "size           False\n",
       "line_code      False\n",
       "value          False\n",
       "dtype: bool"
      ]
     },
     "execution_count": 66,
     "metadata": {},
     "output_type": "execute_result"
    }
   ],
   "source": [
    "df.isna().any()"
   ]
  },
  {
   "cell_type": "code",
   "execution_count": null,
   "id": "8694b1df-8cdd-4727-ab39-85375e78d6e2",
   "metadata": {},
   "outputs": [],
   "source": []
  }
 ],
 "metadata": {
  "kernelspec": {
   "display_name": "Python 3 (ipykernel)",
   "language": "python",
   "name": "python3"
  },
  "language_info": {
   "codemirror_mode": {
    "name": "ipython",
    "version": 3
   },
   "file_extension": ".py",
   "mimetype": "text/x-python",
   "name": "python",
   "nbconvert_exporter": "python",
   "pygments_lexer": "ipython3",
   "version": "3.11.9"
  }
 },
 "nbformat": 4,
 "nbformat_minor": 5
}
